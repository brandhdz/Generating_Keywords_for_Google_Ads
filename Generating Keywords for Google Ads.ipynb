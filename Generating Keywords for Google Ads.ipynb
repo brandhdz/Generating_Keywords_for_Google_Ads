{
 "cells": [
  {
   "cell_type": "markdown",
   "id": "2f1064a4",
   "metadata": {},
   "source": [
    "# Generating Keywords for Google Ads"
   ]
  },
  {
   "cell_type": "markdown",
   "id": "f30faa96",
   "metadata": {},
   "source": [
    "This is a little practice to creat a prototype set of keywords for search campaigns in a sofas section. Thinking in a client who want us to generate keywords for the following products:\n",
    "\n",
    "- sofas\n",
    "- convertible sofas\n",
    "- love seats\n",
    "- recliners\n",
    "- sofa bed\n",
    "\n",
    "The client is generally a low-cost retailer, offering many promotions and discounts. So we will need to focus on such keywords and move away from luxury keywords and topics, as we are targeting price-sensitive customers. Because we are going to be tight on budget, it would be good to focus on a tightly targeted set of keywords and make sure they are all set to exact and phrase match."
   ]
  },
  {
   "cell_type": "markdown",
   "id": "0bc3f589",
   "metadata": {},
   "source": [
    "Considering the previos we will first need to generate a list of words, that together with the products given above would make for good keywords. For example:\n",
    "\n",
    "- **Products**: sofas, recliners\n",
    "- **Words**: buy, prices\n",
    "\n",
    "to create\n",
    "\n",
    "- **Keywords**: 'buy sofas', 'sofas buy', 'buy recliners', 'recliners buy', 'prices sofas', 'sofas prices', 'prices recliners', 'recliners prices'."
   ]
  },
  {
   "cell_type": "markdown",
   "id": "ba9f54da",
   "metadata": {},
   "source": [
    "# 0. Import libraries"
   ]
  },
  {
   "cell_type": "code",
   "execution_count": 1,
   "id": "f3cd5893",
   "metadata": {},
   "outputs": [],
   "source": [
    "import pandas as pd\n",
    "from pprint import pprint"
   ]
  },
  {
   "cell_type": "markdown",
   "id": "c220e381",
   "metadata": {},
   "source": [
    "# 1. Words and product"
   ]
  },
  {
   "cell_type": "code",
   "execution_count": 2,
   "id": "c421e16b",
   "metadata": {},
   "outputs": [],
   "source": [
    "words = ['offer','promotion','discount','economical','sale','buy','shop','cheap']\n",
    "products = ['sofas', 'convertible sofas', 'love seats', 'recliners', 'sofa beds']"
   ]
  },
  {
   "cell_type": "markdown",
   "id": "60429579",
   "metadata": {},
   "source": [
    "We want to combine every word with every product once before, and once after, as we saw in the example."
   ]
  },
  {
   "cell_type": "code",
   "execution_count": 3,
   "id": "ec587e6d",
   "metadata": {},
   "outputs": [],
   "source": [
    "keywords_list = []\n",
    "for product in products:\n",
    "    for word in words:\n",
    "        keywords_list.append([product, product + ' ' + word])\n",
    "        keywords_list.append([product, word + ' ' + product])"
   ]
  },
  {
   "cell_type": "code",
   "execution_count": 4,
   "id": "c7476395",
   "metadata": {
    "scrolled": true
   },
   "outputs": [
    {
     "name": "stdout",
     "output_type": "stream",
     "text": [
      "[['sofas', 'sofas offer'],\n",
      " ['sofas', 'offer sofas'],\n",
      " ['sofas', 'sofas promotion'],\n",
      " ['sofas', 'promotion sofas'],\n",
      " ['sofas', 'sofas discount'],\n",
      " ['sofas', 'discount sofas'],\n",
      " ['sofas', 'sofas economical'],\n",
      " ['sofas', 'economical sofas'],\n",
      " ['sofas', 'sofas sale'],\n",
      " ['sofas', 'sale sofas'],\n",
      " ['sofas', 'sofas buy'],\n",
      " ['sofas', 'buy sofas'],\n",
      " ['sofas', 'sofas shop'],\n",
      " ['sofas', 'shop sofas'],\n",
      " ['sofas', 'sofas cheap'],\n",
      " ['sofas', 'cheap sofas'],\n",
      " ['convertible sofas', 'convertible sofas offer'],\n",
      " ['convertible sofas', 'offer convertible sofas'],\n",
      " ['convertible sofas', 'convertible sofas promotion'],\n",
      " ['convertible sofas', 'promotion convertible sofas'],\n",
      " ['convertible sofas', 'convertible sofas discount'],\n",
      " ['convertible sofas', 'discount convertible sofas'],\n",
      " ['convertible sofas', 'convertible sofas economical'],\n",
      " ['convertible sofas', 'economical convertible sofas'],\n",
      " ['convertible sofas', 'convertible sofas sale'],\n",
      " ['convertible sofas', 'sale convertible sofas'],\n",
      " ['convertible sofas', 'convertible sofas buy'],\n",
      " ['convertible sofas', 'buy convertible sofas'],\n",
      " ['convertible sofas', 'convertible sofas shop'],\n",
      " ['convertible sofas', 'shop convertible sofas'],\n",
      " ['convertible sofas', 'convertible sofas cheap'],\n",
      " ['convertible sofas', 'cheap convertible sofas'],\n",
      " ['love seats', 'love seats offer'],\n",
      " ['love seats', 'offer love seats'],\n",
      " ['love seats', 'love seats promotion'],\n",
      " ['love seats', 'promotion love seats'],\n",
      " ['love seats', 'love seats discount'],\n",
      " ['love seats', 'discount love seats'],\n",
      " ['love seats', 'love seats economical'],\n",
      " ['love seats', 'economical love seats'],\n",
      " ['love seats', 'love seats sale'],\n",
      " ['love seats', 'sale love seats'],\n",
      " ['love seats', 'love seats buy'],\n",
      " ['love seats', 'buy love seats'],\n",
      " ['love seats', 'love seats shop'],\n",
      " ['love seats', 'shop love seats'],\n",
      " ['love seats', 'love seats cheap'],\n",
      " ['love seats', 'cheap love seats'],\n",
      " ['recliners', 'recliners offer'],\n",
      " ['recliners', 'offer recliners'],\n",
      " ['recliners', 'recliners promotion'],\n",
      " ['recliners', 'promotion recliners'],\n",
      " ['recliners', 'recliners discount'],\n",
      " ['recliners', 'discount recliners'],\n",
      " ['recliners', 'recliners economical'],\n",
      " ['recliners', 'economical recliners'],\n",
      " ['recliners', 'recliners sale'],\n",
      " ['recliners', 'sale recliners'],\n",
      " ['recliners', 'recliners buy'],\n",
      " ['recliners', 'buy recliners'],\n",
      " ['recliners', 'recliners shop'],\n",
      " ['recliners', 'shop recliners'],\n",
      " ['recliners', 'recliners cheap'],\n",
      " ['recliners', 'cheap recliners'],\n",
      " ['sofa beds', 'sofa beds offer'],\n",
      " ['sofa beds', 'offer sofa beds'],\n",
      " ['sofa beds', 'sofa beds promotion'],\n",
      " ['sofa beds', 'promotion sofa beds'],\n",
      " ['sofa beds', 'sofa beds discount'],\n",
      " ['sofa beds', 'discount sofa beds'],\n",
      " ['sofa beds', 'sofa beds economical'],\n",
      " ['sofa beds', 'economical sofa beds'],\n",
      " ['sofa beds', 'sofa beds sale'],\n",
      " ['sofa beds', 'sale sofa beds'],\n",
      " ['sofa beds', 'sofa beds buy'],\n",
      " ['sofa beds', 'buy sofa beds'],\n",
      " ['sofa beds', 'sofa beds shop'],\n",
      " ['sofa beds', 'shop sofa beds'],\n",
      " ['sofa beds', 'sofa beds cheap'],\n",
      " ['sofa beds', 'cheap sofa beds']]\n"
     ]
    }
   ],
   "source": [
    "pprint(keywords_list)"
   ]
  },
  {
   "cell_type": "markdown",
   "id": "ee044842",
   "metadata": {},
   "source": [
    "# 2. DataFrame manipulation"
   ]
  },
  {
   "cell_type": "code",
   "execution_count": 15,
   "id": "b7ba1d92",
   "metadata": {},
   "outputs": [],
   "source": [
    "keywords_df = pd.DataFrame.from_records(keywords_list)\n",
    "keywords_df.rename(columns={0: 'Ad Group', 1: \"Keyword\"}, inplace = True ) "
   ]
  },
  {
   "cell_type": "markdown",
   "id": "433c09a2",
   "metadata": {},
   "source": [
    "Now we need to include two new columns for the campaign name and a match type. The campaign names describe our group of keywords and products and the match type for the differents keywords match types. This is important because an exact match is one wich matching the exact term or are close variations of that exact term and a broad match means ads that may show on searches that include misspellings, synonyms, related searches, and other relevant variations."
   ]
  },
  {
   "cell_type": "code",
   "execution_count": 16,
   "id": "a3c3c659",
   "metadata": {},
   "outputs": [],
   "source": [
    "keywords_df['Campaign'] = 'SEM_Sofas'\n",
    "keywords_df['Criterion Type'] = 'Exact'"
   ]
  },
  {
   "cell_type": "markdown",
   "id": "74880fa0",
   "metadata": {},
   "source": [
    "An exact match it is very specific and for that reazon the search volume for exact match is lower than other match types, we can't possibly think of all the ways in which people search. So we can consider another match called phrase match as a discovery mechanism to allow our ads to be triggered by keywords that include our exact match keywords, together with anything before (or after) them."
   ]
  },
  {
   "cell_type": "code",
   "execution_count": 17,
   "id": "68a268bb",
   "metadata": {},
   "outputs": [
    {
     "name": "stderr",
     "output_type": "stream",
     "text": [
      "/var/folders/7j/h277g9b52z15hdcm67x2cp2c0000gn/T/ipykernel_35093/3497863685.py:3: FutureWarning: The frame.append method is deprecated and will be removed from pandas in a future version. Use pandas.concat instead.\n",
      "  keywords_df_final = keywords_df.append(keywords_phrase)\n"
     ]
    }
   ],
   "source": [
    "keywords_phrase = keywords_df.copy()\n",
    "keywords_phrase['Criterion Type'] = 'Phrase'\n",
    "keywords_df_final = keywords_df.append(keywords_phrase)"
   ]
  },
  {
   "cell_type": "markdown",
   "id": "6721da9f",
   "metadata": {},
   "source": [
    "# 3. Save"
   ]
  },
  {
   "cell_type": "code",
   "execution_count": 19,
   "id": "9a58672b",
   "metadata": {},
   "outputs": [
    {
     "name": "stdout",
     "output_type": "stream",
     "text": [
      "Ad Group           Criterion Type\n",
      "convertible sofas  Exact             16\n",
      "                   Phrase            16\n",
      "love seats         Exact             16\n",
      "                   Phrase            16\n",
      "recliners          Exact             16\n",
      "                   Phrase            16\n",
      "sofa beds          Exact             16\n",
      "                   Phrase            16\n",
      "sofas              Exact             16\n",
      "                   Phrase            16\n",
      "Name: Keyword, dtype: int64\n"
     ]
    }
   ],
   "source": [
    "print(keywords_df_final.groupby(['Ad Group', 'Criterion Type'])['Keyword'].count())"
   ]
  },
  {
   "cell_type": "code",
   "execution_count": 20,
   "id": "7447347d",
   "metadata": {},
   "outputs": [],
   "source": [
    "keywords_df_final.to_csv('keywords.csv', index = False)"
   ]
  }
 ],
 "metadata": {
  "kernelspec": {
   "display_name": "Python 3 (ipykernel)",
   "language": "python",
   "name": "python3"
  },
  "language_info": {
   "codemirror_mode": {
    "name": "ipython",
    "version": 3
   },
   "file_extension": ".py",
   "mimetype": "text/x-python",
   "name": "python",
   "nbconvert_exporter": "python",
   "pygments_lexer": "ipython3",
   "version": "3.10.6"
  }
 },
 "nbformat": 4,
 "nbformat_minor": 5
}
